{
 "cells": [
  {
   "cell_type": "code",
   "execution_count": 2,
   "metadata": {},
   "outputs": [],
   "source": [
    "import numpy as np\n",
    "import pandas as pd\n",
    "from sklearn.cluster import KMeans\n",
    "from sklearn.model_selection import train_test_split\n",
    "import matplotlib.pyplot as plt\n",
    "from mpl_toolkits.mplot3d import Axes3D\n",
    "%matplotlib inline\n",
    "from collections import Counter\n",
    "import math\n",
    "from math import exp\n",
    "from scipy.spatial.distance import cdist\n",
    "import scipy\n",
    "from copy import deepcopy"
   ]
  },
  {
   "cell_type": "code",
   "execution_count": 3,
   "metadata": {},
   "outputs": [],
   "source": [
    "from sklearn.datasets import load_iris\n",
    "iris = load_iris()"
   ]
  },
  {
   "cell_type": "code",
   "execution_count": 4,
   "metadata": {},
   "outputs": [],
   "source": [
    "data = iris.data #iris is a dictionary and hence we re gettiing data by keys.\n",
    "labels = iris.target"
   ]
  },
  {
   "cell_type": "code",
   "execution_count": 5,
   "metadata": {},
   "outputs": [],
   "source": [
    "iris_df = pd.DataFrame(iris.data, columns=iris.feature_names)"
   ]
  },
  {
   "cell_type": "code",
   "execution_count": 79,
   "metadata": {},
   "outputs": [],
   "source": [
    " import numpy\n",
    "\n",
    "def MyDBSCAN(D, eps, MinPts):\n",
    "    \"\"\"\n",
    "    Cluster the dataset `D` using the DBSCAN algorithm.\n",
    "    \n",
    "    MyDBSCAN takes a dataset `D` (a list of vectors), a threshold distance\n",
    "    `eps`, and a required number of points `MinPts`.\n",
    "    \n",
    "    It will return a list of cluster labels. The label -1 means noise, and then\n",
    "    the clusters are numbered starting from 1.\n",
    "    \"\"\"\n",
    " \n",
    "    # This list will hold the final cluster assignment for each point in D.\n",
    "    # There are two reserved values:\n",
    "    #    -1 - Indicates a noise point\n",
    "    #     0 - Means the point hasn't been considered yet.\n",
    "    # Initially all labels are 0.    \n",
    "    labels = [0]*len(D)\n",
    "\n",
    "    # C is the ID of the current cluster.    \n",
    "    C = 0\n",
    "    \n",
    "    # This outer loop is just responsible for picking new seed points--a point\n",
    "    # from which to grow a new cluster.\n",
    "    # Once a valid seed point is found, a new cluster is created, and the \n",
    "    # cluster growth is all handled by the 'expandCluster' routine.\n",
    "    \n",
    "    # For each point P in the Dataset D...\n",
    "    # ('P' is the index of the datapoint, rather than the datapoint itself.)\n",
    "    for P in range(0, len(D)):\n",
    "    \n",
    "        # Only points that have not already been claimed can be picked as new \n",
    "        # seed points.    \n",
    "        # If the point's label is not 0, continue to the next point.\n",
    "        if not (labels[P] == 0):\n",
    "           continue\n",
    "        \n",
    "        # Find all of P's neighboring points.\n",
    "        NeighborPts = regionQuery(D, P, eps)\n",
    "        \n",
    "        # If the number is below MinPts, this point is noise. \n",
    "        # This is the only condition under which a point is labeled \n",
    "        # NOISE--when it's not a valid seed point. A NOISE point may later \n",
    "        # be picked up by another cluster as a boundary point (this is the only\n",
    "        # condition under which a cluster label can change--from NOISE to \n",
    "        # something else).\n",
    "        if len(NeighborPts) < MinPts:\n",
    "            labels[P] = -1\n",
    "        # Otherwise, if there are at least MinPts nearby, use this point as the \n",
    "        # seed for a new cluster.    \n",
    "        else: \n",
    "           # Get the next cluster label.\n",
    "           C += 1\n",
    "           \n",
    "           # Assing the label to our seed point.\n",
    "           labels[P] = C\n",
    "           \n",
    "           # Grow the cluster from the seed point.\n",
    "           growCluster(D, labels, P, C, eps, MinPts)\n",
    "    \n",
    "    # All data has been clustered!\n",
    "    return labels\n",
    "\n",
    "\n",
    "def growCluster(D, labels, P, C, eps, MinPts):\n",
    "    \"\"\"\n",
    "    Grow a new cluster with label `C` from the seed point `P`.\n",
    "    \n",
    "    This function searches through the dataset to find all points that belong\n",
    "    to this new cluster. When this function returns, cluster `C` is complete.\n",
    "    \n",
    "    Parameters:\n",
    "      `D`      - The dataset (a list of vectors)\n",
    "      `labels` - List storing the cluster labels for all dataset points\n",
    "      `P`      - Index of the seed point for this new cluster\n",
    "      `C`      - The label for this new cluster.  \n",
    "      `eps`    - Threshold distance\n",
    "      `MinPts` - Minimum required number of neighbors\n",
    "    \"\"\"\n",
    "\n",
    "    # SearchQueue is a FIFO queue of points to evaluate. It will only ever \n",
    "    # contain points which belong to cluster C (and have already been labeled\n",
    "    # as such).\n",
    "    #\n",
    "    # The points are represented by their index values (not the actual vector).\n",
    "    #\n",
    "    # The FIFO queue behavior is accomplished by appending new points to the\n",
    "    # end of the list, and using a while-loop rather than a for-loop.\n",
    "    SearchQueue = [P]\n",
    "\n",
    "    # For each point in the queue:\n",
    "    #   1. Determine whether it is a branch or a leaf\n",
    "    #   2. For branch points, add their unclaimed neighbors to the search queue\n",
    "    i = 0\n",
    "    while i < len(SearchQueue):    \n",
    "        \n",
    "        # Get the next point from the queue.        \n",
    "        P = SearchQueue[i]\n",
    "\n",
    "        # Find all the neighbors of P\n",
    "        NeighborPts = regionQuery(D, P, eps)\n",
    "        \n",
    "        # If the number of neighbors is below the minimum, then this is a leaf\n",
    "        # point and we move to the next point in the queue.\n",
    "        if len(NeighborPts) < MinPts:\n",
    "            i += 1\n",
    "            continue\n",
    "        \n",
    "        # Otherwise, we have the minimum number of neighbors, and this is a \n",
    "        # branch point.\n",
    "            \n",
    "        # For each of the neighbors...\n",
    "        for Pn in NeighborPts:\n",
    "           \n",
    "            # If Pn was labelled NOISE during the seed search, then we\n",
    "            # know it's not a branch point (it doesn't have enough \n",
    "            # neighbors), so make it a leaf point of cluster C and move on.\n",
    "            if labels[Pn] == -1:\n",
    "               labels[Pn] = C\n",
    "            # Otherwise, if Pn isn't already claimed, claim it as part of\n",
    "            # C and add it to the search queue.   \n",
    "            elif labels[Pn] == 0:\n",
    "                # Add Pn to cluster C.\n",
    "                labels[Pn] = C\n",
    "                \n",
    "                # Add Pn to the SearchQueue.\n",
    "                SearchQueue.append(Pn)\n",
    "            \n",
    "        # Advance to the next point in the FIFO queue.\n",
    "        i += 1        \n",
    "    \n",
    "    # We've finished growing cluster C!\n",
    "\n",
    "\n",
    "def regionQuery(Data_array, P, eps):\n",
    "    \"\"\"\n",
    "    Find all points in dataset `D` within distance `eps` of point `P`.\n",
    "    \n",
    "    This function calculates the distance between a point P and every other \n",
    "    point in the dataset, and then returns only those points which are within a\n",
    "    threshold distance `eps`.\n",
    "    \"\"\"\n",
    "#     neighbors = []\n",
    "    \n",
    "    # For each point in the dataset...\n",
    "#     for Pn in range(0, len(D)):\n",
    "#         # If the distance is below the threshold, add it to the neighbors list.\n",
    "#         if numpy.linalg.norm(D[P] - D[Pn]) < eps:\n",
    "#            neighbors.append(Pn)\n",
    "#     return neighbors, len(neighbors)\n",
    "    P = Data_array[P]\n",
    "    P = P.reshape(-1, P.shape[0])\n",
    "    euc_dist = cdist(Data_array, P)\n",
    "    neighbors = np.where(euc_dist < eps)[0]#where gives array of row indices and array of column indices, I want only row indices\n",
    "    #print(neighbor[0])\n",
    "    return neighbors"
   ]
  },
  {
   "cell_type": "code",
   "execution_count": null,
   "metadata": {},
   "outputs": [],
   "source": [
    "def regionQuery(Data_array, P, eps):\n",
    "    P = Data_array[P]\n",
    "    P = P.reshape(-1, P.shape[0])\n",
    "    euc_dist = cdist(Data_array, P)\n",
    "    neighbors = np.where(euc_dist < eps)[0]#where gives array of row indices and array of column indices, I want only row indices\n",
    "    #print(neighbor[0])\n",
    "    return neighbors"
   ]
  },
  {
   "cell_type": "code",
   "execution_count": 80,
   "metadata": {},
   "outputs": [
    {
     "data": {
      "text/plain": [
       "array([ 0,  4,  7,  9, 10, 11, 17, 19, 20, 21, 23, 26, 27, 28, 31, 34, 35,\n",
       "       36, 37, 39, 40, 43, 46, 48, 49])"
      ]
     },
     "execution_count": 80,
     "metadata": {},
     "output_type": "execute_result"
    }
   ],
   "source": [
    "regionQuery(data, 0, 0.5)"
   ]
  },
  {
   "cell_type": "code",
   "execution_count": 92,
   "metadata": {},
   "outputs": [],
   "source": [
    "def find_outliers(Data_array, eps, min_points):\n",
    "    labels = np.zeros(Data_array.shape[0])\n",
    "    \n",
    "    for i in range(Data_array.shape[0]):\n",
    "        neighbors = regionQuery(Data_array, i, eps)\n",
    "        if len(neighbors) < min_points:\n",
    "            labels[i] = -1\n",
    "    return labels        "
   ]
  },
  {
   "cell_type": "code",
   "execution_count": 93,
   "metadata": {},
   "outputs": [
    {
     "data": {
      "text/plain": [
       "150"
      ]
     },
     "execution_count": 93,
     "metadata": {},
     "output_type": "execute_result"
    }
   ],
   "source": [
    "data.shape[0]"
   ]
  },
  {
   "cell_type": "code",
   "execution_count": 103,
   "metadata": {
    "scrolled": true
   },
   "outputs": [
    {
     "data": {
      "text/plain": [
       "array([ 0.,  0.,  0.,  0.,  0., -1.,  0.,  0., -1.,  0.,  0.,  0.,  0.,\n",
       "       -1., -1., -1., -1.,  0., -1.,  0., -1.,  0., -1.,  0., -1.,  0.,\n",
       "        0.,  0.,  0.,  0.,  0.,  0., -1., -1.,  0.,  0., -1.,  0., -1.,\n",
       "        0.,  0., -1., -1.,  0., -1.,  0.,  0.,  0.,  0.,  0., -1., -1.,\n",
       "       -1., -1., -1., -1., -1., -1., -1., -1., -1., -1., -1., -1., -1.,\n",
       "       -1., -1., -1., -1., -1., -1., -1., -1., -1., -1., -1., -1., -1.,\n",
       "       -1., -1., -1., -1., -1., -1., -1., -1., -1., -1., -1., -1., -1.,\n",
       "       -1., -1., -1.,  0., -1.,  0., -1., -1., -1., -1., -1., -1., -1.,\n",
       "       -1., -1., -1., -1., -1., -1., -1., -1., -1., -1., -1., -1., -1.,\n",
       "       -1., -1., -1., -1., -1., -1., -1., -1., -1., -1., -1., -1., -1.,\n",
       "       -1., -1., -1., -1., -1., -1., -1., -1., -1., -1., -1., -1., -1.,\n",
       "       -1., -1., -1., -1., -1., -1., -1.])"
      ]
     },
     "execution_count": 103,
     "metadata": {},
     "output_type": "execute_result"
    }
   ],
   "source": [
    "labels = find_outliers(data, 0.5, 15)\n",
    "labels"
   ]
  },
  {
   "cell_type": "code",
   "execution_count": 118,
   "metadata": {},
   "outputs": [],
   "source": [
    "def grow_cluster(data, labels, index, eps, min_points):\n",
    "    cluster_points = [index]\n",
    "    print(cluster_points[-1])\n",
    "    neighbors = regionQuery(data, cluster_points[-1], eps)\n",
    "    #print(neighbors)\n",
    "    if len(neighbors) >= min_points:\n",
    "        for point in neighbors:\n",
    "            if labels[point] == -1:\n",
    "                labels[point] =labels[index]\n",
    "            elif labels[point] == 0:\n",
    "                cluster_points.append(point)\n",
    "        print(cluster_points)\n",
    "    return labels\n",
    "        "
   ]
  },
  {
   "cell_type": "code",
   "execution_count": 119,
   "metadata": {},
   "outputs": [
    {
     "name": "stdout",
     "output_type": "stream",
     "text": [
      "0\n",
      "[0, 0, 4, 7, 9, 10, 11, 17, 19, 20, 21, 23, 26, 27, 28, 31, 34, 35, 36, 37, 39, 40, 43, 46, 48, 49]\n"
     ]
    },
    {
     "data": {
      "text/plain": [
       "array([ 0.,  0.,  0.,  0.,  0.,  0.,  0.,  0.,  0.,  0.,  0.,  0.,  0.,\n",
       "        0., -1., -1.,  0.,  0.,  0.,  0.,  0.,  0.,  0.,  0.,  0.,  0.,\n",
       "        0.,  0.,  0.,  0.,  0.,  0.,  0., -1.,  0.,  0.,  0.,  0.,  0.,\n",
       "        0.,  0., -1.,  0.,  0.,  0.,  0.,  0.,  0.,  0.,  0., -1., -1.,\n",
       "       -1., -1., -1., -1., -1., -1., -1., -1., -1., -1., -1., -1., -1.,\n",
       "       -1., -1., -1., -1., -1., -1., -1., -1., -1., -1., -1., -1., -1.,\n",
       "       -1., -1., -1., -1., -1., -1., -1., -1., -1., -1., -1., -1., -1.,\n",
       "       -1., -1., -1.,  0., -1.,  0., -1., -1., -1., -1., -1., -1., -1.,\n",
       "       -1., -1., -1., -1., -1., -1., -1., -1., -1., -1., -1., -1., -1.,\n",
       "       -1., -1., -1., -1., -1., -1., -1., -1., -1., -1., -1., -1., -1.,\n",
       "       -1., -1., -1., -1., -1., -1., -1., -1., -1., -1., -1., -1., -1.,\n",
       "       -1., -1., -1., -1., -1., -1., -1.])"
      ]
     },
     "execution_count": 119,
     "metadata": {},
     "output_type": "execute_result"
    }
   ],
   "source": [
    "grow_cluster(data, labels, 0, 0.5, 15)"
   ]
  },
  {
   "cell_type": "code",
   "execution_count": null,
   "metadata": {},
   "outputs": [],
   "source": []
  }
 ],
 "metadata": {
  "kernelspec": {
   "display_name": "Python 3",
   "language": "python",
   "name": "python3"
  },
  "language_info": {
   "codemirror_mode": {
    "name": "ipython",
    "version": 3
   },
   "file_extension": ".py",
   "mimetype": "text/x-python",
   "name": "python",
   "nbconvert_exporter": "python",
   "pygments_lexer": "ipython3",
   "version": "3.6.2"
  }
 },
 "nbformat": 4,
 "nbformat_minor": 2
}
